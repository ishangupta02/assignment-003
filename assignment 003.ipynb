{
 "cells": [
  {
   "cell_type": "markdown",
   "id": "f6e0c8dc",
   "metadata": {},
   "source": [
    "1. Count the number of times iNeuron appears in the string.\n"
   ]
  },
  {
   "cell_type": "code",
   "execution_count": 6,
   "id": "981e24ac",
   "metadata": {},
   "outputs": [],
   "source": [
    "text = \"Welcome to iNeuron, You are a part of FSDS Bootcamp 2 in iNeuron. I hope you are enjoying the course by iNeuron\""
   ]
  },
  {
   "cell_type": "code",
   "execution_count": 7,
   "id": "84061856",
   "metadata": {},
   "outputs": [
    {
     "data": {
      "text/plain": [
       "3"
      ]
     },
     "execution_count": 7,
     "metadata": {},
     "output_type": "execute_result"
    }
   ],
   "source": [
    "text.count(\"iNeuron\")"
   ]
  },
  {
   "cell_type": "markdown",
   "id": "72756323",
   "metadata": {},
   "source": [
    "2. Check if position 5 to 11 ends with the phrase iNeuron. in the string"
   ]
  },
  {
   "cell_type": "code",
   "execution_count": 8,
   "id": "ccdb9ac8",
   "metadata": {},
   "outputs": [],
   "source": [
    "txt = \"Hello, welcome to FSDS 2.0 at iNeuron.\""
   ]
  },
  {
   "cell_type": "code",
   "execution_count": 10,
   "id": "a8fcadee",
   "metadata": {},
   "outputs": [
    {
     "data": {
      "text/plain": [
       "True"
      ]
     },
     "execution_count": 10,
     "metadata": {},
     "output_type": "execute_result"
    }
   ],
   "source": [
    "txt.endswith(\"iNeuron.\")"
   ]
  },
  {
   "cell_type": "markdown",
   "id": "15ba49a6",
   "metadata": {},
   "source": [
    "3. Write a program that takes your full name as input and displays the abbreviations of the first and middle names except the last name which is displayed as it is. For example, if your name is Sunny Bhaveen Chandra, then the output should be S.B.Chandra."
   ]
  },
  {
   "cell_type": "code",
   "execution_count": 14,
   "id": "0ee9397c",
   "metadata": {},
   "outputs": [
    {
     "name": "stdout",
     "output_type": "stream",
     "text": [
      "S.B.Chandra\n"
     ]
    }
   ],
   "source": [
    "name =\"Sunny Bhaveen Chandra\"\n",
    "first_name, middle_name, last_name = name.split(\" \")\n",
    "\n",
    "print(f\"{first_name[0]}.{middle_name[0]}.{last_name}\")"
   ]
  },
  {
   "cell_type": "markdown",
   "id": "3f03a3b4",
   "metadata": {},
   "source": [
    "4. Join all items in a list into a string, using a hash(#) character as separator"
   ]
  },
  {
   "cell_type": "code",
   "execution_count": 17,
   "id": "dff39b8c",
   "metadata": {},
   "outputs": [
    {
     "data": {
      "text/plain": [
       "'My#name#is#Ishan#Gupta'"
      ]
     },
     "execution_count": 17,
     "metadata": {},
     "output_type": "execute_result"
    }
   ],
   "source": [
    "LIST = [\"My\", \"name\", \"is\", \"Ishan\", \"Gupta\"]\n",
    "\"#\".join (LIST)"
   ]
  },
  {
   "cell_type": "markdown",
   "id": "ff7096cc",
   "metadata": {},
   "source": [
    "5. Write example for the following string manipulation function,\n",
    "\n",
    "isdecimal()\n",
    "islower()\n",
    "isupper()\n",
    "isalpha()\n",
    "isnumeric()"
   ]
  },
  {
   "cell_type": "code",
   "execution_count": 18,
   "id": "3368f565",
   "metadata": {},
   "outputs": [
    {
     "data": {
      "text/plain": [
       "False"
      ]
     },
     "execution_count": 18,
     "metadata": {},
     "output_type": "execute_result"
    }
   ],
   "source": [
    "name =\"ishan\"\n",
    "name.isdecimal()"
   ]
  },
  {
   "cell_type": "code",
   "execution_count": 19,
   "id": "e52da4c1",
   "metadata": {},
   "outputs": [
    {
     "data": {
      "text/plain": [
       "True"
      ]
     },
     "execution_count": 19,
     "metadata": {},
     "output_type": "execute_result"
    }
   ],
   "source": [
    "name =\"ishan\"\n",
    "name.islower()"
   ]
  },
  {
   "cell_type": "code",
   "execution_count": 20,
   "id": "be1a47b0",
   "metadata": {},
   "outputs": [
    {
     "data": {
      "text/plain": [
       "False"
      ]
     },
     "execution_count": 20,
     "metadata": {},
     "output_type": "execute_result"
    }
   ],
   "source": [
    "name =\"ishan\"\n",
    "name.isupper()"
   ]
  },
  {
   "cell_type": "code",
   "execution_count": 21,
   "id": "7c49c8e0",
   "metadata": {},
   "outputs": [
    {
     "data": {
      "text/plain": [
       "True"
      ]
     },
     "execution_count": 21,
     "metadata": {},
     "output_type": "execute_result"
    }
   ],
   "source": [
    "name =\"ishan\"\n",
    "name.isalpha()"
   ]
  },
  {
   "cell_type": "code",
   "execution_count": 22,
   "id": "31c20f87",
   "metadata": {},
   "outputs": [
    {
     "data": {
      "text/plain": [
       "False"
      ]
     },
     "execution_count": 22,
     "metadata": {},
     "output_type": "execute_result"
    }
   ],
   "source": [
    "name =\"ishan\"\n",
    "name.isnumeric()"
   ]
  },
  {
   "cell_type": "markdown",
   "id": "9efe8586",
   "metadata": {},
   "source": [
    "6. Indian PAN card format follows the following formats -\n",
    "\n",
    "AYEPC7894X\n",
    "\n"
   ]
  },
  {
   "cell_type": "code",
   "execution_count": 23,
   "id": "8b33cff1",
   "metadata": {},
   "outputs": [
    {
     "name": "stdout",
     "output_type": "stream",
     "text": [
      "AGFDU4567C\n",
      "user input is correct:AGFDU4567C\n"
     ]
    }
   ],
   "source": [
    "pan_number = input()\n",
    "\n",
    "if pan_number[0:5].isupper() and pan_number[5:9].isdigit() and pan_number[9].isupper() and len(pan_number)==10:\n",
    "    print(f\"user input is correct:{pan_number}\")\n",
    "else:\n",
    "    print(f\"invalid input\")"
   ]
  },
  {
   "cell_type": "code",
   "execution_count": null,
   "id": "2baf03a8",
   "metadata": {},
   "outputs": [],
   "source": []
  }
 ],
 "metadata": {
  "kernelspec": {
   "display_name": "Python 3 (ipykernel)",
   "language": "python",
   "name": "python3"
  },
  "language_info": {
   "codemirror_mode": {
    "name": "ipython",
    "version": 3
   },
   "file_extension": ".py",
   "mimetype": "text/x-python",
   "name": "python",
   "nbconvert_exporter": "python",
   "pygments_lexer": "ipython3",
   "version": "3.9.12"
  }
 },
 "nbformat": 4,
 "nbformat_minor": 5
}
